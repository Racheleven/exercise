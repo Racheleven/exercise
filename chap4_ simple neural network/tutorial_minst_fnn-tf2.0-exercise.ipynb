{
 "cells": [
  {
   "cell_type": "markdown",
   "metadata": {},
   "source": [
    "## 准备数据"
   ]
  },
  {
   "cell_type": "code",
   "execution_count": 6,
   "metadata": {},
   "outputs": [],
   "source": [
    "import os\n",
    "import numpy as np\n",
    "import tensorflow as tf\n",
    "from tensorflow import keras\n",
    "from tensorflow.keras import layers, optimizers, datasets\n",
    "\n",
    "os.environ['TF_CPP_MIN_LOG_LEVEL'] = '2'  # or any {'0', '1', '2'}\n",
    "\n",
    "def mnist_dataset():\n",
    "    (x, y), (x_test, y_test) = datasets.mnist.load_data()\n",
    "    #normalize\n",
    "    x = x/255.0\n",
    "    x_test = x_test/255.0\n",
    "    \n",
    "    return (x, y), (x_test, y_test)"
   ]
  },
  {
   "cell_type": "code",
   "execution_count": 7,
   "metadata": {},
   "outputs": [
    {
     "name": "stdout",
     "output_type": "stream",
     "text": [
      "[(1, 'a'), (2, 'b'), (3, 'c'), (4, 'd')]\n"
     ]
    }
   ],
   "source": [
    "print(list(zip([1, 2, 3, 4], ['a', 'b', 'c', 'd'])))"
   ]
  },
  {
   "cell_type": "markdown",
   "metadata": {},
   "source": [
    "## 建立模型"
   ]
  },
  {
   "cell_type": "code",
   "execution_count": 8,
   "metadata": {},
   "outputs": [],
   "source": [
    "class myModel:\n",
    "    def __init__(self):\n",
    "        ####################\n",
    "        '''声明模型对应的参数'''\n",
    "        ####################\n",
    "        self.W1 = tf.Variable(tf.random.normal([784, 128], stddev=0.1))\n",
    "        self.b1 = tf.Variable(tf.zeros([128]))\n",
    "        self.W2 = tf.Variable(tf.random.normal([128, 10], stddev=0.1))\n",
    "        self.b2 = tf.Variable(tf.zeros([10]))\n",
    "\n",
    "    def __call__(self, x):\n",
    "        ####################\n",
    "        '''实现模型函数体，返回未归一化的logits'''\n",
    "        ####################\n",
    "        x = tf.reshape(x, (-1, 784))  # 将图像展平\n",
    "        h1 = tf.nn.relu(tf.matmul(x, self.W1) + self.b1)\n",
    "        logits = tf.matmul(h1, self.W2) + self.b2\n",
    "        return logits\n",
    "        \n",
    "model = myModel()\n",
    "\n",
    "optimizer = optimizers.Adam()"
   ]
  },
  {
   "cell_type": "markdown",
   "metadata": {},
   "source": [
    "## 计算 loss"
   ]
  },
  {
   "cell_type": "code",
   "execution_count": 9,
   "metadata": {},
   "outputs": [],
   "source": [
    "@tf.function\n",
    "def compute_loss(logits, labels):\n",
    "    return tf.reduce_mean(\n",
    "        tf.nn.sparse_softmax_cross_entropy_with_logits(\n",
    "            logits=logits, labels=labels))\n",
    "\n",
    "@tf.function\n",
    "def compute_accuracy(logits, labels):\n",
    "    predictions = tf.argmax(logits, axis=1)\n",
    "    return tf.reduce_mean(tf.cast(tf.equal(predictions, labels), tf.float32))\n",
    "\n",
    "@tf.function\n",
    "def train_one_step(model, optimizer, x, y):\n",
    "    with tf.GradientTape() as tape:\n",
    "        logits = model(x)\n",
    "        loss = compute_loss(logits, y)\n",
    "\n",
    "    # compute gradient\n",
    "    trainable_vars = [model.W1, model.W2, model.b1, model.b2]\n",
    "    grads = tape.gradient(loss, trainable_vars)\n",
    "    for g, v in zip(grads, trainable_vars):\n",
    "        v.assign_sub(0.01*g)\n",
    "\n",
    "    accuracy = compute_accuracy(logits, y)\n",
    "\n",
    "    # loss and accuracy is scalar tensor\n",
    "    return loss, accuracy\n",
    "\n",
    "@tf.function\n",
    "def test(model, x, y):\n",
    "    logits = model(x)\n",
    "    loss = compute_loss(logits, y)\n",
    "    accuracy = compute_accuracy(logits, y)\n",
    "    return loss, accuracy"
   ]
  },
  {
   "cell_type": "markdown",
   "metadata": {},
   "source": [
    "## 实际训练"
   ]
  },
  {
   "cell_type": "code",
   "execution_count": 10,
   "metadata": {},
   "outputs": [
    {
     "name": "stdout",
     "output_type": "stream",
     "text": [
      "epoch 0 : loss 2.3091109 ; accuracy 0.10653333\n",
      "epoch 1 : loss 2.3086748 ; accuracy 0.106816664\n",
      "epoch 2 : loss 2.3082392 ; accuracy 0.1073\n",
      "epoch 3 : loss 2.3078046 ; accuracy 0.10786667\n",
      "epoch 4 : loss 2.3073714 ; accuracy 0.10836667\n",
      "epoch 5 : loss 2.3069386 ; accuracy 0.10893334\n",
      "epoch 6 : loss 2.3065069 ; accuracy 0.10938333\n",
      "epoch 7 : loss 2.3060756 ; accuracy 0.10988333\n",
      "epoch 8 : loss 2.3056445 ; accuracy 0.11035\n",
      "epoch 9 : loss 2.305215 ; accuracy 0.11073333\n",
      "epoch 10 : loss 2.3047853 ; accuracy 0.111266665\n",
      "epoch 11 : loss 2.3043556 ; accuracy 0.111666664\n",
      "epoch 12 : loss 2.303928 ; accuracy 0.112166665\n",
      "epoch 13 : loss 2.3035011 ; accuracy 0.11258333\n",
      "epoch 14 : loss 2.3030748 ; accuracy 0.11311667\n",
      "epoch 15 : loss 2.3026495 ; accuracy 0.113516666\n",
      "epoch 16 : loss 2.3022246 ; accuracy 0.11393333\n",
      "epoch 17 : loss 2.301801 ; accuracy 0.11435\n",
      "epoch 18 : loss 2.3013787 ; accuracy 0.1151\n",
      "epoch 19 : loss 2.3009562 ; accuracy 0.11558333\n",
      "epoch 20 : loss 2.300535 ; accuracy 0.11596667\n",
      "epoch 21 : loss 2.3001149 ; accuracy 0.11631667\n",
      "epoch 22 : loss 2.2996955 ; accuracy 0.1168\n",
      "epoch 23 : loss 2.299277 ; accuracy 0.117133334\n",
      "epoch 24 : loss 2.2988596 ; accuracy 0.117466666\n",
      "epoch 25 : loss 2.2984426 ; accuracy 0.1178\n",
      "epoch 26 : loss 2.298026 ; accuracy 0.11821666\n",
      "epoch 27 : loss 2.2976105 ; accuracy 0.1187\n",
      "epoch 28 : loss 2.2971952 ; accuracy 0.119166665\n",
      "epoch 29 : loss 2.2967818 ; accuracy 0.11965\n",
      "epoch 30 : loss 2.2963688 ; accuracy 0.12008333\n",
      "epoch 31 : loss 2.2959569 ; accuracy 0.12053333\n",
      "epoch 32 : loss 2.2955456 ; accuracy 0.12093333\n",
      "epoch 33 : loss 2.2951353 ; accuracy 0.1214\n",
      "epoch 34 : loss 2.2947254 ; accuracy 0.12188333\n",
      "epoch 35 : loss 2.2943168 ; accuracy 0.1224\n",
      "epoch 36 : loss 2.293909 ; accuracy 0.12268333\n",
      "epoch 37 : loss 2.293502 ; accuracy 0.123283334\n",
      "epoch 38 : loss 2.293096 ; accuracy 0.123733334\n",
      "epoch 39 : loss 2.2926905 ; accuracy 0.12416667\n",
      "epoch 40 : loss 2.292286 ; accuracy 0.12466667\n",
      "epoch 41 : loss 2.2918813 ; accuracy 0.12511666\n",
      "epoch 42 : loss 2.2914777 ; accuracy 0.1255\n",
      "epoch 43 : loss 2.2910745 ; accuracy 0.1259\n",
      "epoch 44 : loss 2.2906718 ; accuracy 0.12633333\n",
      "epoch 45 : loss 2.2902699 ; accuracy 0.12688333\n",
      "epoch 46 : loss 2.2898688 ; accuracy 0.12731667\n",
      "epoch 47 : loss 2.2894678 ; accuracy 0.12776667\n",
      "epoch 48 : loss 2.2890677 ; accuracy 0.12823333\n",
      "epoch 49 : loss 2.2886684 ; accuracy 0.12855\n",
      "test loss 2.285922 ; accuracy 0.1284\n"
     ]
    }
   ],
   "source": [
    "train_data, test_data = mnist_dataset()\n",
    "for epoch in range(50):\n",
    "    loss, accuracy = train_one_step(model, optimizer, \n",
    "                                    tf.constant(train_data[0], dtype=tf.float32), \n",
    "                                    tf.constant(train_data[1], dtype=tf.int64))\n",
    "    print('epoch', epoch, ': loss', loss.numpy(), '; accuracy', accuracy.numpy())\n",
    "loss, accuracy = test(model, \n",
    "                      tf.constant(test_data[0], dtype=tf.float32), \n",
    "                      tf.constant(test_data[1], dtype=tf.int64))\n",
    "\n",
    "print('test loss', loss.numpy(), '; accuracy', accuracy.numpy())"
   ]
  },
  {
   "cell_type": "code",
   "execution_count": null,
   "metadata": {},
   "outputs": [],
   "source": []
  },
  {
   "cell_type": "code",
   "execution_count": null,
   "metadata": {},
   "outputs": [],
   "source": []
  },
  {
   "cell_type": "code",
   "execution_count": null,
   "metadata": {},
   "outputs": [],
   "source": []
  }
 ],
 "metadata": {
  "kernelspec": {
   "display_name": "Python 3 (ipykernel)",
   "language": "python",
   "name": "python3"
  },
  "language_info": {
   "codemirror_mode": {
    "name": "ipython",
    "version": 3
   },
   "file_extension": ".py",
   "mimetype": "text/x-python",
   "name": "python",
   "nbconvert_exporter": "python",
   "pygments_lexer": "ipython3",
   "version": "3.11.3"
  },
  "toc": {
   "base_numbering": 1,
   "nav_menu": {},
   "number_sections": true,
   "sideBar": true,
   "skip_h1_title": false,
   "title_cell": "Table of Contents",
   "title_sidebar": "Contents",
   "toc_cell": false,
   "toc_position": {},
   "toc_section_display": true,
   "toc_window_display": false
  }
 },
 "nbformat": 4,
 "nbformat_minor": 2
}
